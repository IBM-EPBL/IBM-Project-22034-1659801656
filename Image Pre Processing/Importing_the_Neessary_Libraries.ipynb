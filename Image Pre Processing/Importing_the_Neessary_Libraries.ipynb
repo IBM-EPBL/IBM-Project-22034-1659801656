{
  "nbformat": 4,
  "nbformat_minor": 0,
  "metadata": {
    "colab": {
      "provenance": []
    },
    "kernelspec": {
      "name": "python3",
      "display_name": "Python 3"
    },
    "language_info": {
      "name": "python"
    }
  },
  "cells": [
    {
      "cell_type": "code",
      "execution_count": 1,
      "metadata": {
        "id": "bkMe_gz-0C6g"
      },
      "outputs": [],
      "source": [
        "#import the pakages\n",
        "import os.path\n",
        "import pickle\n",
        "import cv2\n",
        "import numpy as np\n",
        "from imutils import build_montages, paths\n",
        "from sklearn.ensemble import RandomForestClassifier\n",
        "from sklearn.metrics import confusion_matrix\n",
        "from sklearn.preprocessing import LabelEncoder\n",
        "from flask import Flask, render_template, request\n",
        "from skimage import feature"
      ]
    }
  ]
}